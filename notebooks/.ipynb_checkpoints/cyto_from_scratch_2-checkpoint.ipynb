{
 "cells": [
  {
   "cell_type": "markdown",
   "metadata": {},
   "source": [
    "# PART 2: Learning graphs with ipycytoscape.  The Train rail net grows up."
   ]
  },
  {
   "cell_type": "markdown",
   "metadata": {},
   "source": [
    "### Objective\n",
    "The objective of this article that follows a first one is to learn graphs from scratch using a visualizing tool called \n",
    " ipycytoscape.  In order to get into graphs I had made the point that it is better starting by visualizing because an image is worth a million words and also a million equations.\n",
    "A small graph was built in the first part, and we made little by little  some modifications to the graph showing how ipycytoscape can be used to get an idea of what is a graph.\n",
    "\n",
    "### For whom is this article? What do you need to know?\n",
    "You code in python but somehow you had never had anything to do with graphs.\n",
    "You read the first part of this series.\n",
    "You are familiar with dictionaries and JSON structures.\n",
    "You have some knowledge of pandas. (If you don't have, you might skip the last part).\n",
    "\n",
    "### Our project\n",
    "You have to imagine that you are a coder that is ultimately in charge of creating a GUI that shows the German rail net in an interactive way showing different kinds of information for the operators to be able to take decisions.\n",
    "\n",
    "As a coder after having read the first article you are at a point where you might be facing the following situations:\n",
    "- A friend told you that visualizing graphs in notebooks is not the way to go: I assure you that you will be able to tell him \"voilà\". (\"here you are\" in French)\n",
    "- Another friend might have told you that in order to really work in python with graphs you better start digging into Networkx. Well you might tell him that a pic is worth a thousand words, and for what it takes, a pic is worth a thousand equations. You will be able to jump from visualizing with ipycytoscape to Networkx, better than the other way around, or at least that is my point here.\n",
    "- And yet other friend told you that in any case jupyter is not for a production environment, and then you might mention Jupyter Hub and see his reaction.\n",
    "\n",
    "That said lets see where we stand and move forward.   \n",
    "We have built a 'mini' German rail net with rail connections between 6 cities. BER (Berlin), MUN(Munich), HAM (Hamburg), FRA (Frankfurt) and LEP(LEIPZIG). That resulted in a graph.\n",
    "We added also some information to the graphs.\n",
    "Note: I will tend to paste here all the code necessary in order to avoid you to have to pick it up in GitHub or wherever else."
   ]
  },
  {
   "cell_type": "code",
   "execution_count": 78,
   "metadata": {},
   "outputs": [
    {
     "data": {
      "application/vnd.jupyter.widget-view+json": {
       "model_id": "518cd7cfb4c8473e9fa85a0b45ca00bf",
       "version_major": 2,
       "version_minor": 0
      },
      "text/plain": [
       "CytoscapeWidget(cytoscape_layout={'name': 'cola'}, cytoscape_style=[{'selector': 'node', 'style': {'font-famil…"
      ]
     },
     "metadata": {},
     "output_type": "display_data"
    }
   ],
   "source": [
    "import ipycytoscape\n",
    "import json\n",
    "import ipywidgets\n",
    "# I paste here allthe data in order to allow you to copy and paste it without loading data from files.\n",
    "railnet= '''{\n",
    "    \"nodes\": [\n",
    "        {\"data\": { \"id\": \"BER\", \"label\":\"HBf BER\", \"classes\":\"east\"}},\n",
    "        {\"data\": { \"id\": \"MUN\", \"label\":\"HBf MUN\", \"classes\":\"west\"}},\n",
    "        {\"data\": { \"id\": \"FRA\", \"label\":\"HBf FRA\", \"classes\":\"west\"}},\n",
    "        {\"data\": { \"id\": \"HAM\", \"label\":\"HBf HAM\", \"classes\":\"west\"}},\n",
    "        {\"data\": { \"id\": \"LEP\", \"label\":\"HBf LEP\", \"classes\":\"east\"}}\n",
    "        ],\n",
    "    \"edges\": [\n",
    "        {\"data\": { \"id\": \"line1\", \"source\": \"BER\", \"target\": \"MUN\",\"label\":\"200km/h\"}},\n",
    "        {\"data\": { \"id\": \"line2\", \"source\": \"MUN\", \"target\": \"FRA\",\"label\":\"200km/h\"}},\n",
    "        {\"data\": { \"id\": \"line3\", \"source\": \"FRA\", \"target\": \"BER\",\"label\":\"250km/h\" }},\n",
    "        {\"data\": { \"id\": \"line4\", \"source\": \"BER\", \"target\": \"HAM\",\"label\":\"300km/h\" }},\n",
    "        {\"data\": { \"id\": \"line5\", \"source\": \"BER\", \"target\": \"LEP\",\"label\":\"300km/h\" }}\n",
    "        \n",
    "    ]\n",
    "  }'''\n",
    "\n",
    "train_style = [\n",
    "    {'selector': 'node','style': {\n",
    "        'font-family': 'arial',\n",
    "        'font-size': '10px',\n",
    "        'label': 'data(label)',}},\n",
    "    \n",
    "    {'selector': 'node[classes=\"east\"]','style': {\n",
    "        'background-color': 'yellow'}},\n",
    "    \n",
    "     {'selector': 'node[classes=\"west\"]','style': {\n",
    "        'background-color': 'blue'}},\n",
    "    \n",
    "    \n",
    "    {'selector': 'node[id = \"BER\"]','style': {\n",
    "        'font-family': 'arial',\n",
    "        'font-size': '10px',\n",
    "        'label': 'data(label)',\n",
    "        'background-color': 'green'}},\n",
    "    \n",
    "    {'selector': 'edge[id = \"line1\"]','style': {\n",
    "        'font-family': 'arial',\n",
    "        'font-size': '10px',\n",
    "        'label': 'data(label)'}},\n",
    "    \n",
    "    {'selector': 'edge[id = \"line2\"]','style': {\n",
    "        'font-family': 'arial',\n",
    "        'font-size': '10px',\n",
    "        'label': 'data(label)'}},\n",
    "    \n",
    "    {'selector': 'edge[id = \"line3\"]','style': {\n",
    "        'font-family': 'arial',\n",
    "        'font-size': '10px',\n",
    "        'label': 'data(label)'}},\n",
    "    \n",
    "    {'selector': 'edge[id = \"line4\"]','style': {\n",
    "        'font-family': 'arial',\n",
    "        'font-size': '10px',\n",
    "        'label': 'data(label)'}},\n",
    "    \n",
    "    {'selector': 'edge[id = \"line5\"]','style': {\n",
    "        'font-family': 'arial',\n",
    "        'font-size': '10px',\n",
    "        'label': 'data(label)'}}\n",
    "    \n",
    "    ]\n",
    "railnetJSON = json.loads(railnet)\n",
    "ipycytoscape_obj = ipycytoscape.CytoscapeWidget()\n",
    "ipycytoscape_obj.graph.add_graph_from_json(railnetJSON) \n",
    "ipycytoscape_obj.set_style(train_style)\n",
    "ipycytoscape_obj"
   ]
  },
  {
   "cell_type": "markdown",
   "metadata": {},
   "source": [
    "## Adding nodes and edges.\n",
    "\n",
    "Nuremberg is a city in former West Germany. A new station was built in Nuremberg (NUR) and it has to be added to the train rail net. Nuremberg's station is joined to the net in Leipzig and Frankfurt. And the connections between NUR and the net is done only with regional rail connections. How do we add that to the net?\n",
    "A new node and a new edge had to be added. In this case I don't built a new graph from scratch in order to show that adding the nodes and edges will happened in the already visualized graph when you run the code.\n",
    "Be aware that the rail station in Nuremberg is still being built, so we want to reflect that on the graph. The desired label is \"HBf NUR in construction\""
   ]
  },
  {
   "cell_type": "code",
   "execution_count": 89,
   "metadata": {},
   "outputs": [
    {
     "data": {
      "application/vnd.jupyter.widget-view+json": {
       "model_id": "518cd7cfb4c8473e9fa85a0b45ca00bf",
       "version_major": 2,
       "version_minor": 0
      },
      "text/plain": [
       "CytoscapeWidget(cytoscape_layout={'name': 'cola'}, cytoscape_style=[{'selector': 'node', 'style': {'font-famil…"
      ]
     },
     "metadata": {},
     "output_type": "display_data"
    }
   ],
   "source": [
    "station_NUR = ipycytoscape.Node()\n",
    "station_NUR.data['id'] = \"NUR\"\n",
    "station_NUR.data['label'] = \"HBf NUR in construction\"\n",
    "station_NUR.data['classes'] = \"west\"\n",
    "\n",
    "ipycytoscape_obj.graph.add_node(station_NUR)\n",
    "ipycytoscape_obj"
   ]
  },
  {
   "cell_type": "markdown",
   "metadata": {},
   "source": [
    "Ups! The station is built but the rail connections are missing.   \n",
    "Let's add the rail connections (edges).   \n",
    "The info that we got is that there will be two connections built as follows:\n",
    "- connection NUR-LEP will be a regional train running only at 150km/h.\n",
    "- connection NUR-FRA will be a regional train running only at 150km/h."
   ]
  },
  {
   "cell_type": "code",
   "execution_count": 91,
   "metadata": {},
   "outputs": [
    {
     "data": {
      "application/vnd.jupyter.widget-view+json": {
       "model_id": "518cd7cfb4c8473e9fa85a0b45ca00bf",
       "version_major": 2,
       "version_minor": 0
      },
      "text/plain": [
       "CytoscapeWidget(cytoscape_layout={'name': 'cola'}, cytoscape_style=[{'selector': 'node', 'style': {'font-famil…"
      ]
     },
     "metadata": {},
     "output_type": "display_data"
    }
   ],
   "source": [
    "# rail connection NUR-LEP\n",
    "new_edge1 = ipycytoscape.Edge()\n",
    "new_edge1.data['id'] = \"line6\"\n",
    "new_edge1.data['source'] = \"NUR\"\n",
    "new_edge1.data['target'] = \"LEP\"\n",
    "new_edge1.data['label'] = \"150km/h\"\n",
    "\n",
    "# rail connection NUR-FRA\n",
    "new_edge2 = ipycytoscape.Edge()\n",
    "new_edge2.data['id'] = \"line7\"\n",
    "new_edge2.data['source'] = \"NUR\"\n",
    "new_edge2.data['target'] = \"FRA\"\n",
    "new_edge2.data['label'] = \"150km/h\"\n",
    "\n",
    "ipycytoscape_obj.graph.add_edges([new_edge1,new_edge2])\n",
    "ipycytoscape_obj"
   ]
  },
  {
   "cell_type": "markdown",
   "metadata": {},
   "source": [
    "You see that already a little bit of magic happens. Since NUR is in the west (class=\"west\") it got automatically the blue colour.   \n",
    "Mmmmm seems that there is still something missing. We don't see the speed of the new regional trains added to the net."
   ]
  },
  {
   "cell_type": "markdown",
   "metadata": {},
   "source": [
    "## Style of new edges\n",
    "\n",
    "my_style was defined as a list with all the requirements for visualizing the graph.\n",
    "Let's add the new necessary styles."
   ]
  },
  {
   "cell_type": "code",
   "execution_count": 92,
   "metadata": {},
   "outputs": [
    {
     "data": {
      "application/vnd.jupyter.widget-view+json": {
       "model_id": "578a04ad1f3d47e59159b9b04323e045",
       "version_major": 2,
       "version_minor": 0
      },
      "text/plain": [
       "CytoscapeWidget(cytoscape_layout={'name': 'cola'}, cytoscape_style=[{'selector': 'node', 'style': {'font-famil…"
      ]
     },
     "metadata": {},
     "output_type": "display_data"
    }
   ],
   "source": [
    "train_style.append({'selector': 'edge[id = \"line6\"]',\n",
    "                 'style': {\n",
    "                     'font-family': 'arial',\n",
    "                     'font-size': '10px',\n",
    "                     'label': 'data(label)'}})\n",
    "train_style.append({'selector': 'edge[id = \"line7\"]',\n",
    "                 'style': {\n",
    "                     'font-family': 'arial',\n",
    "                     'font-size': '10px',\n",
    "                     'label': 'data(label)'}})\n",
    "ipycytoscape_obj2 = ipycytoscape.CytoscapeWidget()\n",
    "ipycytoscape_obj2.graph.add_graph_from_json(railnetJSON)\n",
    "ipycytoscape_obj2.graph.add_node(station_NUR)\n",
    "ipycytoscape_obj2.graph.add_edges([new_edge1,new_edge2])\n",
    "ipycytoscape_obj2.set_style(train_style)\n",
    "ipycytoscape_obj2"
   ]
  },
  {
   "cell_type": "markdown",
   "metadata": {},
   "source": [
    "NUR station is not anymore in construction.\n",
    "So I want to change the label of the NUR station from Hbf NUR in construction by simply \"Hbf NUR\".\n"
   ]
  },
  {
   "cell_type": "code",
   "execution_count": 93,
   "metadata": {},
   "outputs": [
    {
     "data": {
      "application/vnd.jupyter.widget-view+json": {
       "model_id": "578a04ad1f3d47e59159b9b04323e045",
       "version_major": 2,
       "version_minor": 0
      },
      "text/plain": [
       "CytoscapeWidget(cytoscape_layout={'name': 'cola'}, cytoscape_style=[{'selector': 'node', 'style': {'font-famil…"
      ]
     },
     "metadata": {},
     "output_type": "display_data"
    }
   ],
   "source": [
    "ipycytoscape_obj2.graph.nodes\n",
    "for node in ipycytoscape_obj2.graph.nodes:\n",
    "    if node.data['id'] == 'NUR':\n",
    "        node.data['label'] = 'Hbf NUR'\n",
    "ipycytoscape_obj2"
   ]
  },
  {
   "cell_type": "markdown",
   "metadata": {},
   "source": [
    "### Adding more nodes, classes and edges\n",
    "\n",
    "The EU decides to promote a transnational European Union rail connection between mayor cities.  New train stations in France, Italy and Spain have to be added to the net.\n",
    "\n",
    "So far it is planned a 400km/h connection between BER, FRA in Germany, and from FRA to Paris (PAR) to Lyon  (LYO)  and from Lyon to Barcelona (BAR) and to Milan (MIL).  \n",
    "\n",
    "Besides, We want to visually separate the German train stations from the non-German ones.   \n",
    "\n",
    "So we will add the class \"Germany\" to all the German stations, and the new stations added will have the class EU."
   ]
  },
  {
   "cell_type": "code",
   "execution_count": 94,
   "metadata": {},
   "outputs": [],
   "source": [
    "EU_stations = ['PAR','MIL','BAR','LYO']\n",
    "new_EU_stations = []\n",
    "for station in EU_stations:\n",
    "    new_station = ipycytoscape.Node()\n",
    "    new_station.data['id'] = station\n",
    "    new_station.data['label'] = f\"CS {station}\" # CS = Central Station\n",
    "    new_station.data['classes'] = \"EU\"\n",
    "    new_EU_stations.append(new_station)\n",
    "\n",
    "connections = [('BER','PAR'),('PAR','LYO'),('LYO','BAR'),('LYO','MIL')]\n",
    "lines = [8,9,10,11]\n",
    "new_EU_rails = []\n",
    "for i,connection in enumerate(connections):\n",
    "    new_edge = ipycytoscape.Edge()\n",
    "    new_edge.data['id'] = f\"line{lines[i]}\"\n",
    "    new_edge.data['source'] = connection[0]\n",
    "    new_edge.data['target'] = connection[1]\n",
    "    new_edge.data['classes'] = \"EU\"\n",
    "    new_edge.data['label'] = \"400km/h\"\n",
    "    new_EU_rails.append(new_edge)"
   ]
  },
  {
   "cell_type": "markdown",
   "metadata": {},
   "source": [
    "We want to differentiate the German from the rest of the EU stations. Let's give an orange colour to all the non-German stations.   \n",
    "Since we added the class \"EU\" to the new added stations we can add a style to our list of styles as follows.\n",
    "Let's check out the new stations added as nodes. And finally build a new graph rail net."
   ]
  },
  {
   "cell_type": "code",
   "execution_count": 95,
   "metadata": {},
   "outputs": [
    {
     "data": {
      "application/vnd.jupyter.widget-view+json": {
       "model_id": "b68b85370dc54cd3a577842668cec360",
       "version_major": 2,
       "version_minor": 0
      },
      "text/plain": [
       "CytoscapeWidget(cytoscape_layout={'name': 'cola'}, cytoscape_style=[{'selector': 'node', 'style': {'font-famil…"
      ]
     },
     "metadata": {},
     "output_type": "display_data"
    }
   ],
   "source": [
    "train_style.append({'selector': 'node[classes=\"EU\"]',\n",
    "                    'style': {'background-color': 'orange'}})\n",
    "train_style.append({'selector': 'edge[classes=\"EU\"]',\n",
    "                    'style': {'font-family': 'arial',\n",
    "                     'font-size': '10px',\n",
    "                     'label': 'data(label)'}})\n",
    "ipycytoscape_obj3 = ipycytoscape.CytoscapeWidget()\n",
    "ipycytoscape_obj3.graph.add_graph_from_json(railnetJSON)\n",
    "ipycytoscape_obj3.graph.add_node(station_NUR)\n",
    "ipycytoscape_obj3.graph.add_edges([new_edge1,new_edge2])\n",
    "ipycytoscape_obj3.graph.add_nodes(new_EU_stations)\n",
    "ipycytoscape_obj3.graph.add_edges(new_EU_rails)\n",
    "ipycytoscape_obj3.set_style(train_style)\n",
    "ipycytoscape_obj3"
   ]
  },
  {
   "cell_type": "markdown",
   "metadata": {},
   "source": [
    "You see that we did not add many nodes, and we are dealing with a tiny graph and our code got already quite verbose for changing here and there properties and attributes.   \n",
    "Imagine you have to work with the real German rail system. Thousands of stations and thousands of rail connections.\n",
    "Only with these few nodes you might have had this feeling of being lost, imagine with some thousand of those!!    \n",
    "\n"
   ]
  },
  {
   "cell_type": "markdown",
   "metadata": {},
   "source": [
    "## Pandas: Another approach\n",
    "Another thing I would like you to imagine is that this graph is a real part of an interface deployed with voilà (it is not the purpose of this article to deepen into voilà, you just need to know that there are tools to render, i.e. display, ipycytoscape graphs into a browser like any other website). The interface is supposed to be used by people sit behind the computer and looking and manipulating the graphs. Something similar to an air traffic controller. So the colourings and appearance of the graph might be changing continuously depending on number of passengers on trains, number of trains in stations, different colours for different train speeds etc.   \n",
    "So you as a coder have to do with all those layout changes depending on data that is given to you and that is continuously changing.\n",
    "The data might be given to you as an Excel sheet, or a CSVs or any other form that you have to transform into a graph.\n",
    "The most natural way to work with tabular data in data science with python is pandas. So I would like to make a suggestion here to use pandas as data intro managing tool. \n"
   ]
  },
  {
   "cell_type": "markdown",
   "metadata": {},
   "source": [
    "Ipycytoscape includes already an API point to be able to pass a pandas data frame to a graph constructor (see here: https://ipycytoscape.readthedocs.io/en/latest/examples/pandas.html)."
   ]
  },
  {
   "cell_type": "markdown",
   "metadata": {},
   "source": [
    "Nevertheless, my approach is slightly different and nothing better than starting from scratch.    \n",
    "Imagine you are given the data in a tabular way, so chances are you might be given data in the form of a table, not a ready to use JSON file very much looking like gibberish for a non-programmer.   \n",
    "Let's assume that this is the case, and you get the following table data:"
   ]
  },
  {
   "cell_type": "markdown",
   "metadata": {},
   "source": [
    "| Station | Country | class |   |   |\n",
    "|---------|---------|-------|---|---|\n",
    "| BER     | Germany | east  |   |   |\n",
    "| MUN     | Germany | west  |   |   |\n",
    "| FRA     | Germany | west  |   |   |\n",
    "| HAM     | Germany | west  |   |   |\n",
    "| LEP     | Germany | east  |   |   |\n",
    "| NUR     | Germany | west  |   |   |\n",
    "| PAR     | France  |       |   |   |\n",
    "| MIL     | Italy   |       |   |   |\n",
    "| LYO     | France  |       |   |   |\n",
    "| BAR     | Spain   |       |   |   |"
   ]
  },
  {
   "cell_type": "markdown",
   "metadata": {},
   "source": [
    "First thing it becomes apparent is that it is relatively easy to enhance the table with some information."
   ]
  },
  {
   "cell_type": "markdown",
   "metadata": {},
   "source": [
    "We wanted the class 'EU' for the non German rail stations."
   ]
  },
  {
   "cell_type": "code",
   "execution_count": 9,
   "metadata": {},
   "outputs": [],
   "source": [
    "import ipycytoscape\n",
    "import json\n",
    "import ipywidgets\n",
    "import pandas as pd"
   ]
  },
  {
   "cell_type": "code",
   "execution_count": 10,
   "metadata": {},
   "outputs": [],
   "source": [
    "stations = [{'id': 'BER','country': 'Germany','classes': 'east','label': 'BER Hbf','passengers': 400000},\n",
    "        {'id': 'MUN','country': 'Germany','classes': 'west','label': 'MUN Hbf','passengers': 200000},\n",
    "        {'id': 'FRA','country': 'Germany','classes': 'west','label': 'HBf FRA','passengers': 200000},\n",
    "        {'id': 'HAM','country': 'Germany', 'classes': 'west','label': 'HBf HAM','passengers': 150000},\n",
    "        {'id': 'LEP','country': 'Germany','label': 'HBf LEP','classes': 'east','passengers': 50000},\n",
    "        {'id': 'NUR','country': 'Germany','label': 'HBf NUR','classes': 'west','passengers': 50000},\n",
    "        {'id': 'PAR', 'country': 'France','label': 'PAR CS', 'classes': '', 'passengers': 350000},\n",
    "        {'id': 'MIL', 'country': 'Italy', 'label': 'MIL CS','classes': '', 'passengers': 250000},\n",
    "        {'id': 'BAR', 'country': 'Spain', 'label': 'BAR CS','classes': '', 'passengers': 200000},\n",
    "        {'id': 'LYO', 'country': 'France','label': 'LYO CS','classes': '', 'passengers': 200000}]"
   ]
  },
  {
   "cell_type": "code",
   "execution_count": 11,
   "metadata": {},
   "outputs": [],
   "source": [
    "#data = [{'id': 'BER','country': 'Germany','classes': 'east','label': 'BER Hbf','passengers': 400000},\n",
    "#        {'id': 'MUN','country': 'Germany','classes': 'west','label': 'MUN Hbf','passengers': 200000}]"
   ]
  },
  {
   "cell_type": "code",
   "execution_count": 12,
   "metadata": {},
   "outputs": [
    {
     "data": {
      "text/html": [
       "<div>\n",
       "<style scoped>\n",
       "    .dataframe tbody tr th:only-of-type {\n",
       "        vertical-align: middle;\n",
       "    }\n",
       "\n",
       "    .dataframe tbody tr th {\n",
       "        vertical-align: top;\n",
       "    }\n",
       "\n",
       "    .dataframe thead th {\n",
       "        text-align: right;\n",
       "    }\n",
       "</style>\n",
       "<table border=\"1\" class=\"dataframe\">\n",
       "  <thead>\n",
       "    <tr style=\"text-align: right;\">\n",
       "      <th></th>\n",
       "      <th>id</th>\n",
       "      <th>country</th>\n",
       "      <th>classes</th>\n",
       "      <th>label</th>\n",
       "      <th>passengers</th>\n",
       "    </tr>\n",
       "  </thead>\n",
       "  <tbody>\n",
       "    <tr>\n",
       "      <th>0</th>\n",
       "      <td>BER</td>\n",
       "      <td>Germany</td>\n",
       "      <td>east</td>\n",
       "      <td>BER Hbf</td>\n",
       "      <td>400000</td>\n",
       "    </tr>\n",
       "    <tr>\n",
       "      <th>1</th>\n",
       "      <td>MUN</td>\n",
       "      <td>Germany</td>\n",
       "      <td>west</td>\n",
       "      <td>MUN Hbf</td>\n",
       "      <td>200000</td>\n",
       "    </tr>\n",
       "    <tr>\n",
       "      <th>2</th>\n",
       "      <td>FRA</td>\n",
       "      <td>Germany</td>\n",
       "      <td>west</td>\n",
       "      <td>HBf FRA</td>\n",
       "      <td>200000</td>\n",
       "    </tr>\n",
       "    <tr>\n",
       "      <th>3</th>\n",
       "      <td>HAM</td>\n",
       "      <td>Germany</td>\n",
       "      <td>west</td>\n",
       "      <td>HBf HAM</td>\n",
       "      <td>150000</td>\n",
       "    </tr>\n",
       "    <tr>\n",
       "      <th>4</th>\n",
       "      <td>LEP</td>\n",
       "      <td>Germany</td>\n",
       "      <td>east</td>\n",
       "      <td>HBf LEP</td>\n",
       "      <td>50000</td>\n",
       "    </tr>\n",
       "    <tr>\n",
       "      <th>5</th>\n",
       "      <td>NUR</td>\n",
       "      <td>Germany</td>\n",
       "      <td>west</td>\n",
       "      <td>HBf NUR</td>\n",
       "      <td>50000</td>\n",
       "    </tr>\n",
       "    <tr>\n",
       "      <th>6</th>\n",
       "      <td>PAR</td>\n",
       "      <td>France</td>\n",
       "      <td></td>\n",
       "      <td>PAR CS</td>\n",
       "      <td>350000</td>\n",
       "    </tr>\n",
       "    <tr>\n",
       "      <th>7</th>\n",
       "      <td>MIL</td>\n",
       "      <td>Italy</td>\n",
       "      <td></td>\n",
       "      <td>MIL CS</td>\n",
       "      <td>250000</td>\n",
       "    </tr>\n",
       "    <tr>\n",
       "      <th>8</th>\n",
       "      <td>BAR</td>\n",
       "      <td>Spain</td>\n",
       "      <td></td>\n",
       "      <td>BAR CS</td>\n",
       "      <td>200000</td>\n",
       "    </tr>\n",
       "    <tr>\n",
       "      <th>9</th>\n",
       "      <td>LYO</td>\n",
       "      <td>France</td>\n",
       "      <td></td>\n",
       "      <td>LYO CS</td>\n",
       "      <td>200000</td>\n",
       "    </tr>\n",
       "  </tbody>\n",
       "</table>\n",
       "</div>"
      ],
      "text/plain": [
       "    id  country classes    label  passengers\n",
       "0  BER  Germany    east  BER Hbf      400000\n",
       "1  MUN  Germany    west  MUN Hbf      200000\n",
       "2  FRA  Germany    west  HBf FRA      200000\n",
       "3  HAM  Germany    west  HBf HAM      150000\n",
       "4  LEP  Germany    east  HBf LEP       50000\n",
       "5  NUR  Germany    west  HBf NUR       50000\n",
       "6  PAR   France           PAR CS      350000\n",
       "7  MIL    Italy           MIL CS      250000\n",
       "8  BAR    Spain           BAR CS      200000\n",
       "9  LYO   France           LYO CS      200000"
      ]
     },
     "execution_count": 12,
     "metadata": {},
     "output_type": "execute_result"
    }
   ],
   "source": [
    "#column_names= ['id', 'country', 'classes','label']\n",
    "stations_df = pd.DataFrame(stations)\n",
    "stations_df"
   ]
  },
  {
   "cell_type": "markdown",
   "metadata": {},
   "source": [
    "Lets now add the neccesary data to the table."
   ]
  },
  {
   "cell_type": "markdown",
   "metadata": {},
   "source": [
    "We want to paint every EU rail station orange, and the rest blue, except for the German capital which will be yellow"
   ]
  },
  {
   "cell_type": "code",
   "execution_count": 13,
   "metadata": {},
   "outputs": [
    {
     "data": {
      "text/html": [
       "<div>\n",
       "<style scoped>\n",
       "    .dataframe tbody tr th:only-of-type {\n",
       "        vertical-align: middle;\n",
       "    }\n",
       "\n",
       "    .dataframe tbody tr th {\n",
       "        vertical-align: top;\n",
       "    }\n",
       "\n",
       "    .dataframe thead th {\n",
       "        text-align: right;\n",
       "    }\n",
       "</style>\n",
       "<table border=\"1\" class=\"dataframe\">\n",
       "  <thead>\n",
       "    <tr style=\"text-align: right;\">\n",
       "      <th></th>\n",
       "      <th>id</th>\n",
       "      <th>country</th>\n",
       "      <th>classes</th>\n",
       "      <th>label</th>\n",
       "      <th>passengers</th>\n",
       "      <th>background-color</th>\n",
       "    </tr>\n",
       "  </thead>\n",
       "  <tbody>\n",
       "    <tr>\n",
       "      <th>0</th>\n",
       "      <td>BER</td>\n",
       "      <td>Germany</td>\n",
       "      <td>east</td>\n",
       "      <td>BER Hbf</td>\n",
       "      <td>400000</td>\n",
       "      <td>blue</td>\n",
       "    </tr>\n",
       "    <tr>\n",
       "      <th>1</th>\n",
       "      <td>MUN</td>\n",
       "      <td>Germany</td>\n",
       "      <td>west</td>\n",
       "      <td>MUN Hbf</td>\n",
       "      <td>200000</td>\n",
       "      <td>blue</td>\n",
       "    </tr>\n",
       "    <tr>\n",
       "      <th>2</th>\n",
       "      <td>FRA</td>\n",
       "      <td>Germany</td>\n",
       "      <td>west</td>\n",
       "      <td>HBf FRA</td>\n",
       "      <td>200000</td>\n",
       "      <td>blue</td>\n",
       "    </tr>\n",
       "    <tr>\n",
       "      <th>3</th>\n",
       "      <td>HAM</td>\n",
       "      <td>Germany</td>\n",
       "      <td>west</td>\n",
       "      <td>HBf HAM</td>\n",
       "      <td>150000</td>\n",
       "      <td>blue</td>\n",
       "    </tr>\n",
       "    <tr>\n",
       "      <th>4</th>\n",
       "      <td>LEP</td>\n",
       "      <td>Germany</td>\n",
       "      <td>east</td>\n",
       "      <td>HBf LEP</td>\n",
       "      <td>50000</td>\n",
       "      <td>blue</td>\n",
       "    </tr>\n",
       "    <tr>\n",
       "      <th>5</th>\n",
       "      <td>NUR</td>\n",
       "      <td>Germany</td>\n",
       "      <td>west</td>\n",
       "      <td>HBf NUR</td>\n",
       "      <td>50000</td>\n",
       "      <td>blue</td>\n",
       "    </tr>\n",
       "    <tr>\n",
       "      <th>6</th>\n",
       "      <td>PAR</td>\n",
       "      <td>France</td>\n",
       "      <td>EU</td>\n",
       "      <td>PAR CS</td>\n",
       "      <td>350000</td>\n",
       "      <td>orange</td>\n",
       "    </tr>\n",
       "    <tr>\n",
       "      <th>7</th>\n",
       "      <td>MIL</td>\n",
       "      <td>Italy</td>\n",
       "      <td>EU</td>\n",
       "      <td>MIL CS</td>\n",
       "      <td>250000</td>\n",
       "      <td>orange</td>\n",
       "    </tr>\n",
       "    <tr>\n",
       "      <th>8</th>\n",
       "      <td>BAR</td>\n",
       "      <td>Spain</td>\n",
       "      <td>EU</td>\n",
       "      <td>BAR CS</td>\n",
       "      <td>200000</td>\n",
       "      <td>orange</td>\n",
       "    </tr>\n",
       "    <tr>\n",
       "      <th>9</th>\n",
       "      <td>LYO</td>\n",
       "      <td>France</td>\n",
       "      <td>EU</td>\n",
       "      <td>LYO CS</td>\n",
       "      <td>200000</td>\n",
       "      <td>orange</td>\n",
       "    </tr>\n",
       "  </tbody>\n",
       "</table>\n",
       "</div>"
      ],
      "text/plain": [
       "    id  country classes    label  passengers background-color\n",
       "0  BER  Germany    east  BER Hbf      400000             blue\n",
       "1  MUN  Germany    west  MUN Hbf      200000             blue\n",
       "2  FRA  Germany    west  HBf FRA      200000             blue\n",
       "3  HAM  Germany    west  HBf HAM      150000             blue\n",
       "4  LEP  Germany    east  HBf LEP       50000             blue\n",
       "5  NUR  Germany    west  HBf NUR       50000             blue\n",
       "6  PAR   France      EU   PAR CS      350000           orange\n",
       "7  MIL    Italy      EU   MIL CS      250000           orange\n",
       "8  BAR    Spain      EU   BAR CS      200000           orange\n",
       "9  LYO   France      EU   LYO CS      200000           orange"
      ]
     },
     "execution_count": 13,
     "metadata": {},
     "output_type": "execute_result"
    }
   ],
   "source": [
    "stations_df.loc[stations_df['country'] != 'Germany','classes'] = 'EU'\n",
    "stations_df['background-color']=''\n",
    "stations_df.loc[stations_df['country'] == 'Germany','background-color'] = 'blue'\n",
    "stations_df.loc[stations_df['country'] == 'Berlin','background-color']  = 'yellow'\n",
    "stations_df.loc[stations_df['country'] != 'Germany','background-color'] = 'orange'\n",
    "stations_df\n",
    "\n"
   ]
  },
  {
   "cell_type": "markdown",
   "metadata": {},
   "source": [
    "We might get the data in the same Excel format for the edges"
   ]
  },
  {
   "cell_type": "code",
   "execution_count": 61,
   "metadata": {},
   "outputs": [],
   "source": [
    "rail_lines = [{'id': 'line1', 'source': 'BER', 'target': 'MUN', 'speed': '200km/h'},\n",
    "         {'id': 'line2', 'source': 'MUN', 'target': 'FRA', 'speed': '200km/h'},\n",
    "         {'id': 'line3', 'source': 'FRA', 'target': 'BER', 'speed': '250km/h'}, \n",
    "         {'id': 'line4', 'source': 'BER', 'target': 'HAM', 'speed': '300km/h'}, \n",
    "         {'id': 'line5', 'source': 'BER', 'target': 'LEP', 'speed': '300km/h'},\n",
    "         {'id': 'line6', 'source': 'NUR', 'target': 'LEP', 'speed': '150km/h'}, \n",
    "         {'id': 'line7', 'source': 'NUR', 'target': 'FRA', 'speed': '150km/h'},\n",
    "         {'id': 'line8', 'source': 'BER', 'target': 'PAR', 'speed': '400km/h'}, \n",
    "         {'id': 'line9', 'source': 'PAR', 'target': 'LYO', 'speed': '400km/h'}, \n",
    "         {'id': 'line10', 'source': 'LYO', 'target': 'BAR', 'speed': '400km/h'},\n",
    "         {'id': 'line11', 'source': 'LYO', 'target': 'MIL', 'speed': '200km/h'}]"
   ]
  },
  {
   "cell_type": "code",
   "execution_count": 62,
   "metadata": {},
   "outputs": [],
   "source": [
    "#edges = [{'id': 'line1', 'source': 'BER', 'target': 'MUN', 'label': '200km/h'}]"
   ]
  },
  {
   "cell_type": "code",
   "execution_count": 63,
   "metadata": {},
   "outputs": [],
   "source": [
    "rails_df = pd.DataFrame(rail_lines,columns=['id','source','target','speed'])\n",
    "rails_df['label'] = rails_df['speed']\n",
    "rails_df['background-color'] = 'black'"
   ]
  },
  {
   "cell_type": "code",
   "execution_count": 64,
   "metadata": {},
   "outputs": [
    {
     "data": {
      "text/html": [
       "<div>\n",
       "<style scoped>\n",
       "    .dataframe tbody tr th:only-of-type {\n",
       "        vertical-align: middle;\n",
       "    }\n",
       "\n",
       "    .dataframe tbody tr th {\n",
       "        vertical-align: top;\n",
       "    }\n",
       "\n",
       "    .dataframe thead th {\n",
       "        text-align: right;\n",
       "    }\n",
       "</style>\n",
       "<table border=\"1\" class=\"dataframe\">\n",
       "  <thead>\n",
       "    <tr style=\"text-align: right;\">\n",
       "      <th></th>\n",
       "      <th>id</th>\n",
       "      <th>source</th>\n",
       "      <th>target</th>\n",
       "      <th>speed</th>\n",
       "      <th>label</th>\n",
       "      <th>background-color</th>\n",
       "    </tr>\n",
       "  </thead>\n",
       "  <tbody>\n",
       "    <tr>\n",
       "      <th>0</th>\n",
       "      <td>line1</td>\n",
       "      <td>BER</td>\n",
       "      <td>MUN</td>\n",
       "      <td>200km/h</td>\n",
       "      <td>200km/h</td>\n",
       "      <td>black</td>\n",
       "    </tr>\n",
       "    <tr>\n",
       "      <th>1</th>\n",
       "      <td>line2</td>\n",
       "      <td>MUN</td>\n",
       "      <td>FRA</td>\n",
       "      <td>200km/h</td>\n",
       "      <td>200km/h</td>\n",
       "      <td>black</td>\n",
       "    </tr>\n",
       "    <tr>\n",
       "      <th>2</th>\n",
       "      <td>line3</td>\n",
       "      <td>FRA</td>\n",
       "      <td>BER</td>\n",
       "      <td>250km/h</td>\n",
       "      <td>250km/h</td>\n",
       "      <td>black</td>\n",
       "    </tr>\n",
       "    <tr>\n",
       "      <th>3</th>\n",
       "      <td>line4</td>\n",
       "      <td>BER</td>\n",
       "      <td>HAM</td>\n",
       "      <td>300km/h</td>\n",
       "      <td>300km/h</td>\n",
       "      <td>black</td>\n",
       "    </tr>\n",
       "    <tr>\n",
       "      <th>4</th>\n",
       "      <td>line5</td>\n",
       "      <td>BER</td>\n",
       "      <td>LEP</td>\n",
       "      <td>300km/h</td>\n",
       "      <td>300km/h</td>\n",
       "      <td>black</td>\n",
       "    </tr>\n",
       "    <tr>\n",
       "      <th>5</th>\n",
       "      <td>line6</td>\n",
       "      <td>NUR</td>\n",
       "      <td>LEP</td>\n",
       "      <td>150km/h</td>\n",
       "      <td>150km/h</td>\n",
       "      <td>black</td>\n",
       "    </tr>\n",
       "    <tr>\n",
       "      <th>6</th>\n",
       "      <td>line7</td>\n",
       "      <td>NUR</td>\n",
       "      <td>FRA</td>\n",
       "      <td>150km/h</td>\n",
       "      <td>150km/h</td>\n",
       "      <td>black</td>\n",
       "    </tr>\n",
       "    <tr>\n",
       "      <th>7</th>\n",
       "      <td>line8</td>\n",
       "      <td>BER</td>\n",
       "      <td>PAR</td>\n",
       "      <td>400km/h</td>\n",
       "      <td>400km/h</td>\n",
       "      <td>black</td>\n",
       "    </tr>\n",
       "    <tr>\n",
       "      <th>8</th>\n",
       "      <td>line9</td>\n",
       "      <td>PAR</td>\n",
       "      <td>LYO</td>\n",
       "      <td>400km/h</td>\n",
       "      <td>400km/h</td>\n",
       "      <td>black</td>\n",
       "    </tr>\n",
       "    <tr>\n",
       "      <th>9</th>\n",
       "      <td>line10</td>\n",
       "      <td>LYO</td>\n",
       "      <td>BAR</td>\n",
       "      <td>400km/h</td>\n",
       "      <td>400km/h</td>\n",
       "      <td>black</td>\n",
       "    </tr>\n",
       "    <tr>\n",
       "      <th>10</th>\n",
       "      <td>line11</td>\n",
       "      <td>LYO</td>\n",
       "      <td>MIL</td>\n",
       "      <td>200km/h</td>\n",
       "      <td>200km/h</td>\n",
       "      <td>black</td>\n",
       "    </tr>\n",
       "  </tbody>\n",
       "</table>\n",
       "</div>"
      ],
      "text/plain": [
       "        id source target    speed    label background-color\n",
       "0    line1    BER    MUN  200km/h  200km/h            black\n",
       "1    line2    MUN    FRA  200km/h  200km/h            black\n",
       "2    line3    FRA    BER  250km/h  250km/h            black\n",
       "3    line4    BER    HAM  300km/h  300km/h            black\n",
       "4    line5    BER    LEP  300km/h  300km/h            black\n",
       "5    line6    NUR    LEP  150km/h  150km/h            black\n",
       "6    line7    NUR    FRA  150km/h  150km/h            black\n",
       "7    line8    BER    PAR  400km/h  400km/h            black\n",
       "8    line9    PAR    LYO  400km/h  400km/h            black\n",
       "9   line10    LYO    BAR  400km/h  400km/h            black\n",
       "10  line11    LYO    MIL  200km/h  200km/h            black"
      ]
     },
     "execution_count": 64,
     "metadata": {},
     "output_type": "execute_result"
    }
   ],
   "source": [
    "rails_df"
   ]
  },
  {
   "cell_type": "markdown",
   "metadata": {},
   "source": [
    "Lets build the graph. For that I will try to build a dictionary out of the pandas dataframes and manipulate them in order to give them the adecuate layout for input into ipycytoscape to "
   ]
  },
  {
   "cell_type": "code",
   "execution_count": 65,
   "metadata": {},
   "outputs": [],
   "source": [
    "def transform_into_ipycytoscape(nodes_df,edges_df,classes=''):\n",
    "    \n",
    "    nodes_dict = nodes_df.to_dict('records')\n",
    "    edges_dict = edges_df.to_dict('records')\n",
    "\n",
    "    # building nodes\n",
    "\n",
    "    data_keys = ['id','label','classes']\n",
    "    position_keys = ['position_x','position_y']\n",
    "    rest_keys = ['idInt','name','score','group','removed','selected','selectable','locked','grabbed'\n",
    "                 'grabbable']\n",
    "    \n",
    "    nodes_graph_list=[]\n",
    "    for node in nodes_dict:\n",
    "        dict_node = {}\n",
    "        data_sub_dict = {'data':{el:node[el] for el in data_keys}}\n",
    "        rest_sub_dict = {el:node[el] for el in node.keys() if el in rest_keys}\n",
    "        posi_sub_dict = {}\n",
    "        if 'position_x' in node.keys() and 'position_y' in node.keys():\n",
    "            #print(node.keys())\n",
    "            posi_sub_dict = {'position':{el:node[el] for el in node.keys() if el in position_keys}}\n",
    "        \n",
    "        dict_node = {**data_sub_dict,**rest_sub_dict,**posi_sub_dict}\n",
    "        nodes_graph_list.append(dict_node)\n",
    "        \n",
    "    \n",
    "    # building edges\n",
    "    \n",
    "    data_keys  = ['id','source','target']\n",
    "    data_keys2 = ['label','classes']\n",
    "    rest_keys  = ['weight','group','networkId','networkGroupId','intn','rIntnId','group','removed','selected','selectable','locked','grabbed','grabbable','classes']\n",
    "    position_keys = ['position_x','position_y']\n",
    "    \n",
    "    edges_graph_list = []\n",
    "    for edge in edges_dict:\n",
    "        dict_edge = {}\n",
    "        data_sub_dict = {el:edge[el] for el in data_keys}\n",
    "        data_sub_dict2 = {el:edge[el] for el in edge.keys() if el in data_keys2}\n",
    "        rest_sub_dict = {el:edge[el] for el in edge.keys() if el in rest_keys}\n",
    "        \n",
    "        dict_edge = {'data':{**data_sub_dict,**data_sub_dict},**rest_sub_dict}\n",
    "        edges_graph_list.append(dict_edge)\n",
    "    \n",
    "    total_graph_dict = {'nodes': nodes_graph_list, 'edges':edges_graph_list}\n",
    "    \n",
    "    # building the style\n",
    "    all_node_style = ['background-color','background-opacity',\n",
    "                     'font-family','font-size','label','width']\n",
    "    all_edge_style = ['background-color','background-opacity',\n",
    "                     'font-family','font-size','label','width','line-color']\n",
    "    \n",
    "    total_style_dict = {}\n",
    "    style_elements=[]\n",
    "    for node in nodes_dict:\n",
    "        node_dict = {'selector': f'node[id = \\\"{node[\"id\"]}\\\"]'}\n",
    "        style_dict ={\"style\": { el:node[el] for el in node.keys() if el in all_node_style}}\n",
    "        node_dict.update(style_dict)\n",
    "        style_elements.append(node_dict)\n",
    "    \n",
    "    for edge in edges_dict:\n",
    "        edge_dict = {'selector': f'edge[id = \\\"{edge[\"id\"]}\\\"]'}\n",
    "        style_dict ={\"style\": { el:edge[el] for el in edge.keys() if el in all_edge_style}}\n",
    "        edge_dict.update(style_dict)\n",
    "        style_elements.append(edge_dict)\n",
    "    \n",
    "    # the graph\n",
    "    data_graph = json.dumps(total_graph_dict)\n",
    "    json_to_python = json.loads(data_graph)\n",
    "    result_cyto = ipycytoscape.CytoscapeWidget()\n",
    "    result_cyto.graph.add_graph_from_json(json_to_python)    \n",
    "    result_cyto.set_style(style_elements)    \n",
    "    \n",
    "    if classes != '':\n",
    "        pass\n",
    "    \n",
    "    return result_cyto\n",
    "    "
   ]
  },
  {
   "cell_type": "markdown",
   "metadata": {},
   "source": [
    "# cell to be deleted\n",
    "railnet= '''{\n",
    "    \"nodes\": [\n",
    "        {\"data\": { \"id\": \"BER\", \"label\":\"HBf BER\", \"classes\":\"east\"}},\n",
    "        {\"data\": { \"id\": \"MUN\", \"label\":\"HBf MUN\", \"classes\":\"west\"}}\n",
    "        ],\n",
    "    \"edges\": [\n",
    "        {\"data\": { \"id\": \"line1\", \"source\": \"BER\", \"target\": \"MUN\", \"label\":\"200km/h\"}}\n",
    "    ]\n",
    "  }'''\n",
    "\n",
    "train_style = [\n",
    "    {'selector': 'node[id = \"BER\"]','style': {\n",
    "        'label': 'BER HBf',\n",
    "        'background-color': 'blue'}},\n",
    "    \n",
    "    {'selector': 'node[id = \"MUN\"]','style': {\n",
    "        'label': 'MUN HBf',\n",
    "        'background-color': 'blue'}},\n",
    "    \n",
    "    {'selector': 'edge[id = \"line1\"]','style': {\n",
    "        'label': '200 kmh/h'}}\n",
    "    \n",
    "  \n",
    "    ]\n",
    "railnetJSON = json.loads(railnet)\n",
    "ipycytoscape_obj9 = ipycytoscape.CytoscapeWidget()\n",
    "ipycytoscape_obj9.graph.add_graph_from_json(railnetJSON) \n",
    "ipycytoscape_obj9.set_style(train_style)\n",
    "ipycytoscape_obj9"
   ]
  },
  {
   "cell_type": "code",
   "execution_count": 66,
   "metadata": {},
   "outputs": [],
   "source": [
    "G=transform_into_ipycytoscape(stations_df,rails_df)\n",
    "\n",
    "#print(G.get_style)\n",
    "#print()\n",
    "#print(ipycytoscape_obj9.get_style)"
   ]
  },
  {
   "cell_type": "code",
   "execution_count": 67,
   "metadata": {},
   "outputs": [
    {
     "data": {
      "application/vnd.jupyter.widget-view+json": {
       "model_id": "f05c74c769f74fa086279b6521e33e9a",
       "version_major": 2,
       "version_minor": 0
      },
      "text/plain": [
       "CytoscapeWidget(cytoscape_layout={'name': 'cola'}, cytoscape_style=[{'selector': 'node[id = \"BER\"]', 'style': …"
      ]
     },
     "metadata": {},
     "output_type": "display_data"
    }
   ],
   "source": [
    "display(G)"
   ]
  },
  {
   "cell_type": "markdown",
   "metadata": {},
   "source": [
    "But I started this article saying that I will make the point of why being able to work directly with tables is good.   \n",
    "Now assume that you want to change the colors of the Graph in the following way.  \n",
    "Stations with more than 200000 passengers should be rendered red and the rest green.  \n",
    "We are also asked to paint red the high speed rail lines. ( more or equal than 300km/h)\n",
    "We can do that operating over the dataframe and pass the resulting dataframe to the ipycytoscape constructor of the method above defined.\n",
    "What are then the CSS afected atributes? For the nodes is the 'background-color' (we already used it) and for the lines is the 'line-color'\n",
    "Lets see."
   ]
  },
  {
   "cell_type": "code",
   "execution_count": 68,
   "metadata": {},
   "outputs": [],
   "source": [
    "stations_df['background-color'] = stations_df['passengers'].apply(lambda x: 'red' if x>200000 else 'blue')\n",
    "rails_df['line-color'] = rails_df['label'].apply(lambda x: 'red' if x in ['400km/h','300km/h'] else 'green')"
   ]
  },
  {
   "cell_type": "markdown",
   "metadata": {},
   "source": [
    "And now we build the graph again"
   ]
  },
  {
   "cell_type": "code",
   "execution_count": 69,
   "metadata": {},
   "outputs": [
    {
     "data": {
      "application/vnd.jupyter.widget-view+json": {
       "model_id": "5f5937b3bda344f087b56e0c414b9df4",
       "version_major": 2,
       "version_minor": 0
      },
      "text/plain": [
       "CytoscapeWidget(cytoscape_layout={'name': 'cola'}, cytoscape_style=[{'selector': 'node[id = \"BER\"]', 'style': …"
      ]
     },
     "metadata": {},
     "output_type": "display_data"
    }
   ],
   "source": [
    "G=transform_into_ipycytoscape(stations_df,rails_df)\n",
    "display(G)"
   ]
  },
  {
   "cell_type": "markdown",
   "metadata": {},
   "source": [
    "In order to further ilustrate the power of this approach I will add another layout change.   \n",
    "A new security regulation was passed in parlament and all the stations where a high train speed arrives should have special anti-fire measures. So the GUI should show in orange all the stations where at least a high speed train arrives and in green those in which that is not the case."
   ]
  },
  {
   "cell_type": "markdown",
   "metadata": {},
   "source": [
    "Stations in which at least one high speed line arrives "
   ]
  },
  {
   "cell_type": "code",
   "execution_count": 70,
   "metadata": {},
   "outputs": [],
   "source": [
    "rails_df['high-speed'] = rails_df.apply(lambda x: [x.target,x.source] if x.speed in ['400km/h'] else [], axis=1)"
   ]
  },
  {
   "cell_type": "code",
   "execution_count": 71,
   "metadata": {},
   "outputs": [
    {
     "data": {
      "text/html": [
       "<div>\n",
       "<style scoped>\n",
       "    .dataframe tbody tr th:only-of-type {\n",
       "        vertical-align: middle;\n",
       "    }\n",
       "\n",
       "    .dataframe tbody tr th {\n",
       "        vertical-align: top;\n",
       "    }\n",
       "\n",
       "    .dataframe thead th {\n",
       "        text-align: right;\n",
       "    }\n",
       "</style>\n",
       "<table border=\"1\" class=\"dataframe\">\n",
       "  <thead>\n",
       "    <tr style=\"text-align: right;\">\n",
       "      <th></th>\n",
       "      <th>id</th>\n",
       "      <th>source</th>\n",
       "      <th>target</th>\n",
       "      <th>speed</th>\n",
       "      <th>label</th>\n",
       "      <th>background-color</th>\n",
       "      <th>line-color</th>\n",
       "      <th>high-speed</th>\n",
       "    </tr>\n",
       "  </thead>\n",
       "  <tbody>\n",
       "    <tr>\n",
       "      <th>0</th>\n",
       "      <td>line1</td>\n",
       "      <td>BER</td>\n",
       "      <td>MUN</td>\n",
       "      <td>200km/h</td>\n",
       "      <td>200km/h</td>\n",
       "      <td>black</td>\n",
       "      <td>green</td>\n",
       "      <td>[]</td>\n",
       "    </tr>\n",
       "    <tr>\n",
       "      <th>1</th>\n",
       "      <td>line2</td>\n",
       "      <td>MUN</td>\n",
       "      <td>FRA</td>\n",
       "      <td>200km/h</td>\n",
       "      <td>200km/h</td>\n",
       "      <td>black</td>\n",
       "      <td>green</td>\n",
       "      <td>[]</td>\n",
       "    </tr>\n",
       "    <tr>\n",
       "      <th>2</th>\n",
       "      <td>line3</td>\n",
       "      <td>FRA</td>\n",
       "      <td>BER</td>\n",
       "      <td>250km/h</td>\n",
       "      <td>250km/h</td>\n",
       "      <td>black</td>\n",
       "      <td>green</td>\n",
       "      <td>[]</td>\n",
       "    </tr>\n",
       "    <tr>\n",
       "      <th>3</th>\n",
       "      <td>line4</td>\n",
       "      <td>BER</td>\n",
       "      <td>HAM</td>\n",
       "      <td>300km/h</td>\n",
       "      <td>300km/h</td>\n",
       "      <td>black</td>\n",
       "      <td>red</td>\n",
       "      <td>[]</td>\n",
       "    </tr>\n",
       "    <tr>\n",
       "      <th>4</th>\n",
       "      <td>line5</td>\n",
       "      <td>BER</td>\n",
       "      <td>LEP</td>\n",
       "      <td>300km/h</td>\n",
       "      <td>300km/h</td>\n",
       "      <td>black</td>\n",
       "      <td>red</td>\n",
       "      <td>[]</td>\n",
       "    </tr>\n",
       "    <tr>\n",
       "      <th>5</th>\n",
       "      <td>line6</td>\n",
       "      <td>NUR</td>\n",
       "      <td>LEP</td>\n",
       "      <td>150km/h</td>\n",
       "      <td>150km/h</td>\n",
       "      <td>black</td>\n",
       "      <td>green</td>\n",
       "      <td>[]</td>\n",
       "    </tr>\n",
       "    <tr>\n",
       "      <th>6</th>\n",
       "      <td>line7</td>\n",
       "      <td>NUR</td>\n",
       "      <td>FRA</td>\n",
       "      <td>150km/h</td>\n",
       "      <td>150km/h</td>\n",
       "      <td>black</td>\n",
       "      <td>green</td>\n",
       "      <td>[]</td>\n",
       "    </tr>\n",
       "    <tr>\n",
       "      <th>7</th>\n",
       "      <td>line8</td>\n",
       "      <td>BER</td>\n",
       "      <td>PAR</td>\n",
       "      <td>400km/h</td>\n",
       "      <td>400km/h</td>\n",
       "      <td>black</td>\n",
       "      <td>red</td>\n",
       "      <td>[PAR, BER]</td>\n",
       "    </tr>\n",
       "    <tr>\n",
       "      <th>8</th>\n",
       "      <td>line9</td>\n",
       "      <td>PAR</td>\n",
       "      <td>LYO</td>\n",
       "      <td>400km/h</td>\n",
       "      <td>400km/h</td>\n",
       "      <td>black</td>\n",
       "      <td>red</td>\n",
       "      <td>[LYO, PAR]</td>\n",
       "    </tr>\n",
       "    <tr>\n",
       "      <th>9</th>\n",
       "      <td>line10</td>\n",
       "      <td>LYO</td>\n",
       "      <td>BAR</td>\n",
       "      <td>400km/h</td>\n",
       "      <td>400km/h</td>\n",
       "      <td>black</td>\n",
       "      <td>red</td>\n",
       "      <td>[BAR, LYO]</td>\n",
       "    </tr>\n",
       "    <tr>\n",
       "      <th>10</th>\n",
       "      <td>line11</td>\n",
       "      <td>LYO</td>\n",
       "      <td>MIL</td>\n",
       "      <td>200km/h</td>\n",
       "      <td>200km/h</td>\n",
       "      <td>black</td>\n",
       "      <td>green</td>\n",
       "      <td>[]</td>\n",
       "    </tr>\n",
       "  </tbody>\n",
       "</table>\n",
       "</div>"
      ],
      "text/plain": [
       "        id source target    speed    label background-color line-color  \\\n",
       "0    line1    BER    MUN  200km/h  200km/h            black      green   \n",
       "1    line2    MUN    FRA  200km/h  200km/h            black      green   \n",
       "2    line3    FRA    BER  250km/h  250km/h            black      green   \n",
       "3    line4    BER    HAM  300km/h  300km/h            black        red   \n",
       "4    line5    BER    LEP  300km/h  300km/h            black        red   \n",
       "5    line6    NUR    LEP  150km/h  150km/h            black      green   \n",
       "6    line7    NUR    FRA  150km/h  150km/h            black      green   \n",
       "7    line8    BER    PAR  400km/h  400km/h            black        red   \n",
       "8    line9    PAR    LYO  400km/h  400km/h            black        red   \n",
       "9   line10    LYO    BAR  400km/h  400km/h            black        red   \n",
       "10  line11    LYO    MIL  200km/h  200km/h            black      green   \n",
       "\n",
       "    high-speed  \n",
       "0           []  \n",
       "1           []  \n",
       "2           []  \n",
       "3           []  \n",
       "4           []  \n",
       "5           []  \n",
       "6           []  \n",
       "7   [PAR, BER]  \n",
       "8   [LYO, PAR]  \n",
       "9   [BAR, LYO]  \n",
       "10          []  "
      ]
     },
     "execution_count": 71,
     "metadata": {},
     "output_type": "execute_result"
    }
   ],
   "source": [
    "rails_df"
   ]
  },
  {
   "cell_type": "code",
   "execution_count": 72,
   "metadata": {},
   "outputs": [],
   "source": [
    "stations_high_speed_arriving = rails_df['high-speed'].to_list()\n",
    "list_of_HS_stations =list(set([item for sublist in stations_high_speed_arriving for item in sublist]))\n"
   ]
  },
  {
   "cell_type": "markdown",
   "metadata": {},
   "source": [
    "Those are therefore the stations from which at least one high speed train departs.   \n",
    "Lets change the color of the stations in the stations dataframe.\n",
    "\n",
    "\n"
   ]
  },
  {
   "cell_type": "code",
   "execution_count": 73,
   "metadata": {},
   "outputs": [],
   "source": [
    "stations_df['background-color'] = stations_df['id'].apply(lambda x: 'violet' if x in list_of_HS_stations else 'yellow')"
   ]
  },
  {
   "cell_type": "code",
   "execution_count": 74,
   "metadata": {},
   "outputs": [
    {
     "data": {
      "application/vnd.jupyter.widget-view+json": {
       "model_id": "4fe04b65ab514936934cf38d916d1362",
       "version_major": 2,
       "version_minor": 0
      },
      "text/plain": [
       "CytoscapeWidget(cytoscape_layout={'name': 'cola'}, cytoscape_style=[{'selector': 'node[id = \"BER\"]', 'style': …"
      ]
     },
     "metadata": {},
     "output_type": "display_data"
    }
   ],
   "source": [
    "G=transform_into_ipycytoscape(stations_df,rails_df)\n",
    "display(G)"
   ]
  },
  {
   "cell_type": "code",
   "execution_count": 29,
   "metadata": {},
   "outputs": [
    {
     "data": {
      "text/plain": [
       "{'data': {'ak': 'iaaa', 'bk': 'ibbb'}, 'rest1': 'rrrr', 'rest2': 'ttttt'}"
      ]
     },
     "execution_count": 29,
     "metadata": {},
     "output_type": "execute_result"
    }
   ],
   "source": [
    "Conclusion"
   ]
  },
  {
   "cell_type": "markdown",
   "metadata": {},
   "source": []
  }
 ],
 "metadata": {
  "kernelspec": {
   "display_name": "Python 3",
   "language": "python",
   "name": "python3"
  },
  "language_info": {
   "codemirror_mode": {
    "name": "ipython",
    "version": 3
   },
   "file_extension": ".py",
   "mimetype": "text/x-python",
   "name": "python",
   "nbconvert_exporter": "python",
   "pygments_lexer": "ipython3",
   "version": "3.8.3"
  }
 },
 "nbformat": 4,
 "nbformat_minor": 4
}
